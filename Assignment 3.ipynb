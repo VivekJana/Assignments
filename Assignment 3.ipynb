{
 "cells": [
  {
   "cell_type": "markdown",
   "id": "41a5a20d",
   "metadata": {},
   "source": [
    "### Question 1.1"
   ]
  },
  {
   "cell_type": "code",
   "execution_count": 7,
   "id": "749c14a0",
   "metadata": {},
   "outputs": [
    {
     "name": "stdout",
     "output_type": "stream",
     "text": [
      "17\n",
      "-15\n",
      "180\n",
      "0.005555555555555556\n"
     ]
    }
   ],
   "source": [
    "import operator as op\n",
    "lis = [1, 3, 5, 6, 2,]\n",
    "def myreduce(function, lis): \n",
    "        value = lis[0]\n",
    "        for i in range(len(lis)-1):\n",
    "            value = function(value,lis[i+1])\n",
    "        return value\n",
    "print(myreduce(op.add,lis))\n",
    "print(myreduce(op.sub,lis))\n",
    "print(myreduce(op.mul,lis))\n",
    "print(myreduce(lambda a,b :a/b,lis))"
   ]
  },
  {
   "cell_type": "markdown",
   "id": "a262707e",
   "metadata": {},
   "source": [
    "### Question 1.2"
   ]
  },
  {
   "cell_type": "code",
   "execution_count": 6,
   "id": "92f2d888",
   "metadata": {},
   "outputs": [
    {
     "name": "stdout",
     "output_type": "stream",
     "text": [
      "[6, 2]\n"
     ]
    }
   ],
   "source": [
    "\n",
    "def myfilter(function,list):\n",
    "    result=[]\n",
    "    for val in list:\n",
    "        if function(val)==True:\n",
    "            result.append(val)\n",
    "    return result\n",
    "\n",
    "lis = [1, 3, 5, 6, 2,]\n",
    "print(myfilter(lambda x:(x%2==0),lis))\n",
    "            "
   ]
  },
  {
   "cell_type": "markdown",
   "id": "89b8e8cf",
   "metadata": {},
   "source": [
    "### Question 2"
   ]
  },
  {
   "cell_type": "code",
   "execution_count": 15,
   "id": "60461e0a",
   "metadata": {},
   "outputs": [
    {
     "name": "stdout",
     "output_type": "stream",
     "text": [
      "['x', 'xx', 'xxx', 'y', 'yy', 'yyy', 'z', 'zz', 'zzz']\n"
     ]
    }
   ],
   "source": [
    "list=['x','y','z']\n",
    "result = [val*int(i)  for val in list for i in range(1,len(list)+1)]\n",
    "print(result)"
   ]
  },
  {
   "cell_type": "code",
   "execution_count": 3,
   "id": "1e45b1ad",
   "metadata": {},
   "outputs": [
    {
     "name": "stdout",
     "output_type": "stream",
     "text": [
      "['x', 'y', 'z', 'xx', 'yy', 'zz', 'xxx', 'yyy', 'zzz', 'xxxx', 'yyyy', 'zzzz']\n"
     ]
    }
   ],
   "source": [
    "list=['x','y','z']\n",
    "result=[val*int(i) for i in range(1,5) for val in list]\n",
    "print(result)\n"
   ]
  },
  {
   "cell_type": "code",
   "execution_count": 8,
   "id": "805a082e",
   "metadata": {},
   "outputs": [
    {
     "name": "stdout",
     "output_type": "stream",
     "text": [
      "[[2], [3], [4], [3], [4], [5], [4], [5], [6]]\n"
     ]
    }
   ],
   "source": [
    "result=[[x+y] for x in range(2,5) for y in range(3)]\n",
    "print(result)\n"
   ]
  },
  {
   "cell_type": "code",
   "execution_count": 9,
   "id": "71e6a82d",
   "metadata": {},
   "outputs": [
    {
     "name": "stdout",
     "output_type": "stream",
     "text": [
      "[[2, 3, 4, 5], [3, 4, 5, 6], [4, 5, 6, 7], [5, 6, 7, 8]]\n"
     ]
    }
   ],
   "source": [
    "result=[[x+y for x in range(2,6)] for y in range(4)]\n",
    "print(result)\n"
   ]
  },
  {
   "cell_type": "code",
   "execution_count": 13,
   "id": "ddd0ddad",
   "metadata": {},
   "outputs": [
    {
     "name": "stdout",
     "output_type": "stream",
     "text": [
      "[(1, 1), (2, 1), (3, 1), (1, 2), (2, 2), (3, 2), (1, 3), (2, 3), (3, 3)]\n"
     ]
    }
   ],
   "source": [
    "result=[(y,x) for x in range(1,4) for y in range(1,4)]\n",
    "print(result)"
   ]
  }
 ],
 "metadata": {
  "kernelspec": {
   "display_name": "Python 3 (ipykernel)",
   "language": "python",
   "name": "python3"
  },
  "language_info": {
   "codemirror_mode": {
    "name": "ipython",
    "version": 3
   },
   "file_extension": ".py",
   "mimetype": "text/x-python",
   "name": "python",
   "nbconvert_exporter": "python",
   "pygments_lexer": "ipython3",
   "version": "3.9.7"
  }
 },
 "nbformat": 4,
 "nbformat_minor": 5
}
