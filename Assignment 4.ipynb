{
 "cells": [
  {
   "cell_type": "markdown",
   "id": "39dd2dbf",
   "metadata": {},
   "source": [
    "### Question 1.1"
   ]
  },
  {
   "cell_type": "code",
   "execution_count": 11,
   "id": "d11f9f29",
   "metadata": {},
   "outputs": [],
   "source": [
    "class trig:\n",
    "    def __init__(self,a,b,c):\n",
    "        self.a=a\n",
    "        self.b=b\n",
    "        self.c=c\n",
    "        \n",
    "class Area(trig):\n",
    "    def sum(self):\n",
    "        sum = (self.a+self.b+self.c)/2\n",
    "        area = (sum*(sum-self.a)*(sum-self.b)*(sum-self.c))**0.5\n",
    "        return area"
   ]
  },
  {
   "cell_type": "code",
   "execution_count": 12,
   "id": "df0dfc87",
   "metadata": {},
   "outputs": [
    {
     "data": {
      "text/plain": [
       "12.0"
      ]
     },
     "execution_count": 12,
     "metadata": {},
     "output_type": "execute_result"
    }
   ],
   "source": [
    "\n",
    "triangle = Area(5,6,5)\n",
    "triangle.sum()"
   ]
  },
  {
   "cell_type": "markdown",
   "id": "58c13fca",
   "metadata": {},
   "source": [
    "### Question 1.2"
   ]
  },
  {
   "cell_type": "code",
   "execution_count": 13,
   "id": "0209be35",
   "metadata": {},
   "outputs": [
    {
     "name": "stdout",
     "output_type": "stream",
     "text": [
      "['Ineuron', 'python', 'anaconda']\n"
     ]
    }
   ],
   "source": [
    "def filter_long_words(words,n):\n",
    "    filterd=[x for x in words if len(x) > n]\n",
    "    print(filterd)\n",
    "w=[\"Ineuron\",\"data\",\"python\",\"anaconda\"]\n",
    "filter_long_words(w,5)"
   ]
  },
  {
   "cell_type": "markdown",
   "id": "41d15298",
   "metadata": {},
   "source": [
    "### Question 2.1"
   ]
  },
  {
   "cell_type": "code",
   "execution_count": 18,
   "id": "129bfcfc",
   "metadata": {},
   "outputs": [
    {
     "name": "stdout",
     "output_type": "stream",
     "text": [
      "[2, 3, 4, 6]\n"
     ]
    }
   ],
   "source": [
    "def list_len(lista):\n",
    "    result = [len(x) for x in lista]\n",
    "    return result\n",
    "words = ['ab','cde','erty','python']\n",
    "print(list_len(words))\n",
    "    "
   ]
  },
  {
   "cell_type": "markdown",
   "id": "ec2afd1b",
   "metadata": {},
   "source": [
    "### Question 2.2"
   ]
  },
  {
   "cell_type": "code",
   "execution_count": 25,
   "id": "f9a83602",
   "metadata": {},
   "outputs": [
    {
     "name": "stdout",
     "output_type": "stream",
     "text": [
      "True\n",
      "False\n"
     ]
    }
   ],
   "source": [
    "vowels=['a','e','i','o','u']\n",
    "def check_vow(char):\n",
    "    if char in vowels:\n",
    "        return True\n",
    "    else:\n",
    "        return False\n",
    "print(check_vow('u'))\n",
    "print(check_vow('p'))"
   ]
  },
  {
   "cell_type": "code",
   "execution_count": null,
   "id": "9bdf9e82",
   "metadata": {},
   "outputs": [],
   "source": []
  },
  {
   "cell_type": "code",
   "execution_count": null,
   "id": "632a6b09",
   "metadata": {},
   "outputs": [],
   "source": []
  }
 ],
 "metadata": {
  "kernelspec": {
   "display_name": "Python 3 (ipykernel)",
   "language": "python",
   "name": "python3"
  },
  "language_info": {
   "codemirror_mode": {
    "name": "ipython",
    "version": 3
   },
   "file_extension": ".py",
   "mimetype": "text/x-python",
   "name": "python",
   "nbconvert_exporter": "python",
   "pygments_lexer": "ipython3",
   "version": "3.9.7"
  }
 },
 "nbformat": 4,
 "nbformat_minor": 5
}
